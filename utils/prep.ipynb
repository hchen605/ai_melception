{
 "cells": [
  {
   "cell_type": "code",
   "execution_count": 1,
   "metadata": {},
   "outputs": [],
   "source": [
    "import os\n",
    "import requests\n",
    "import gdown\n",
    "import zipfile\n",
    "import wget, tarfile"
   ]
  },
  {
   "cell_type": "code",
   "execution_count": 3,
   "metadata": {},
   "outputs": [],
   "source": [
    "jobs = {\n",
    "    \"13oIf-706vszak0DdiQpTB09btJx7zTIy\": \"./init/data.zip\",\n",
    "    \"10E6F8RbRuSSg9wmYiPv6jyDsaFSSuyte\": \"./arrange/checkpoint.zip\",\n",
    "    \"http://hog.ee.columbia.edu/craffel/lmd/lmd_full.tar.gz\": \"./lmd_full.tar.gz\"\n",
    "}"
   ]
  },
  {
   "cell_type": "code",
   "execution_count": 10,
   "metadata": {},
   "outputs": [],
   "source": [
    "def download_file(file, destination):\n",
    "    if file[-7:] == '.tar.gz':\n",
    "        wget.download(file, destination)\n",
    "        file = tarfile.open(fileobj=response.raw, mode='r|gz')\n",
    "        file.extractall(path='./')\n",
    "    else:\n",
    "        gdown.download(id=file, output=destination)\n",
    "\n",
    "def unzip_file(file):\n",
    "    with zipfile.ZipFile(file, 'r') as zip_ref:\n",
    "        zip_ref.extractall(os.path.dirname(file))"
   ]
  },
  {
   "cell_type": "code",
   "execution_count": 8,
   "metadata": {},
   "outputs": [
    {
     "name": "stdout",
     "output_type": "stream",
     "text": [
      "Downloading...\n"
     ]
    },
    {
     "name": "stderr",
     "output_type": "stream",
     "text": [
      "Downloading...\n",
      "From (original): https://drive.google.com/uc?id=13oIf-706vszak0DdiQpTB09btJx7zTIy\n",
      "From (redirected): https://drive.google.com/uc?id=13oIf-706vszak0DdiQpTB09btJx7zTIy&confirm=t&uuid=746ce23a-9c72-4b77-861d-b543d8579664\n",
      "To: /Users/Joann/Desktop/Git code/ai_melception/init/data.zip\n",
      "100%|████████████████████████████████████████| 477M/477M [01:53<00:00, 4.20MB/s]\n"
     ]
    },
    {
     "name": "stdout",
     "output_type": "stream",
     "text": [
      "Unzipping...\n",
      "Removing...\n"
     ]
    }
   ],
   "source": [
    "# Download files from Google Drive\n",
    "for file, destination in jobs.items():\n",
    "    print('Downloading...')\n",
    "    download_file(file, destination)\n",
    "    print('Unzipping...')\n",
    "    unzip_file(destination)\n",
    "    print('Removing...')\n",
    "    os.remove(destination)\n",
    "    break"
   ]
  },
  {
   "cell_type": "code",
   "execution_count": 19,
   "metadata": {},
   "outputs": [],
   "source": [
    "path = './Data/file/lmd_full.tar.gz'"
   ]
  },
  {
   "cell_type": "code",
   "execution_count": 21,
   "metadata": {},
   "outputs": [],
   "source": [
    "_, ext = os.path.splitext(path)"
   ]
  },
  {
   "cell_type": "code",
   "execution_count": 22,
   "metadata": {},
   "outputs": [
    {
     "data": {
      "text/plain": [
       "'.gz'"
      ]
     },
     "execution_count": 22,
     "metadata": {},
     "output_type": "execute_result"
    }
   ],
   "source": [
    "ext"
   ]
  },
  {
   "cell_type": "code",
   "execution_count": null,
   "metadata": {},
   "outputs": [],
   "source": []
  }
 ],
 "metadata": {
  "interpreter": {
   "hash": "50a3b5462ed4f0dd0c0377b5ff12c1d33d67071b6e6df174a864fa999e421aef"
  },
  "kernelspec": {
   "display_name": "Python 3 (ipykernel)",
   "language": "python",
   "name": "python3"
  },
  "language_info": {
   "codemirror_mode": {
    "name": "ipython",
    "version": 3
   },
   "file_extension": ".py",
   "mimetype": "text/x-python",
   "name": "python",
   "nbconvert_exporter": "python",
   "pygments_lexer": "ipython3",
   "version": "3.11.5"
  }
 },
 "nbformat": 4,
 "nbformat_minor": 4
}
